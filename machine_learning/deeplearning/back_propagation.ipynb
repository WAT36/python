{
 "cells": [
  {
   "cell_type": "code",
   "execution_count": 1,
   "metadata": {},
   "outputs": [],
   "source": [
    "import time\n",
    "import numpy as np\n",
    "import matplotlib.pyplot as plt"
   ]
  },
  {
   "cell_type": "code",
   "execution_count": 2,
   "metadata": {},
   "outputs": [],
   "source": [
    "#入力データのロード\n",
    "x = np.load('x.npy')\n",
    "#教師用データのロード\n",
    "t = np.load('t.npy')"
   ]
  },
  {
   "cell_type": "code",
   "execution_count": 3,
   "metadata": {},
   "outputs": [],
   "source": [
    "#tをN*3行列にする\n",
    "t_bk=t\n",
    "t=np.zeros((len(t),3))\n",
    "for i in range(t.shape[0]):\n",
    "    j=int(t_bk[i])\n",
    "    t[i][j]=1.0"
   ]
  },
  {
   "cell_type": "code",
   "execution_count": 5,
   "metadata": {},
   "outputs": [],
   "source": [
    "#パラメータ定義\n",
    "#出力値の個数\n",
    "K=3\n",
    "\n",
    "x_range0=[min(x[:,0])-1,max(x[:,0])+1]\n",
    "x_range1=[min(x[:,1])-1,max(x[:,1])+1]"
   ]
  },
  {
   "cell_type": "code",
   "execution_count": 6,
   "metadata": {},
   "outputs": [
    {
     "data": {
      "image/png": "[encoded data removed]",
      "text/plain": [
       "<Figure size 432x288 with 1 Axes>"
      ]
     },
     "metadata": {
      "needs_background": "light"
     },
     "output_type": "display_data"
    }
   ],
   "source": [
    "#入力データの図示\n",
    "plt.plot(x[:,0],x[:,1],linestyle='none',markeredgecolor='black',marker='o',color='gray')\n",
    "plt.xlim(x_range0)\n",
    "plt.ylim(x_range1)\n",
    "plt.xlabel('temperature[℃]')\n",
    "plt.ylabel('pH')\n",
    "plt.grid(True)\n",
    "plt.show()"
   ]
  },
  {
   "cell_type": "code",
   "execution_count": 12,
   "metadata": {},
   "outputs": [],
   "source": [
    "#シグモイド関数\n",
    "def sigmoid(x):\n",
    "    return 1 / (1 + np.exp(-x))\n",
    "\n",
    "#ソフトマックス関数\n",
    "def softmax(a,u):\n",
    "    return np.exp(a) / u"
   ]
  },
  {
   "cell_type": "code",
   "execution_count": 7,
   "metadata": {},
   "outputs": [],
   "source": [
    "#２層フィードフォワードニューラルネットワークモデル\n",
    "def FNN(x,w,v,M,K):\n",
    "    #x:入力データ  (N*D)→入力データはNセット分、まとめて一度に処理させる。入力データ１セットに対し出力値１セットを得る。\n",
    "    #w:中間層への重み行列 (M*(D+1))\n",
    "    #v:出力層への重み行列 (K*(M+1))\n",
    "    #M:中間層の次元\n",
    "    #K:出力層の次元\n",
    "    N,D = x.shape\n",
    "    b=np.zeros((N,M+1))  #中間層の入力総和\n",
    "    z=np.zeros((N,M+1))  #中間層の出力\n",
    "    a=np.zeros((N,K))    #出力層の入力総和\n",
    "    y=np.zeros((N,K))    #出力層の出力\n",
    "    \n",
    "    #(1~n)個目の入力データセットについての処理\n",
    "    for n in range(N):\n",
    "        #中間層の計算\n",
    "        for m in range(M):\n",
    "            #入力データxを利用し、入力総和bのm番目の要素の算出を行う。結果はb[n,m]\n",
    "            b[n,m]=np.dot(w[m,:],np.r_[x[n,:],1])\n",
    "            #入力総和をシグモイド関数で出力値にする\n",
    "            z[n,m]=sigmoid(b[n,m]) \n",
    "\n",
    "        #出力層の計算\n",
    "        z[n,M] = 1  #最後のダミー用データ\n",
    "        u=0\n",
    "        for k in range(K):\n",
    "            #中間層からの入力データzを利用し、入力総和aのk番目の要素の算出を行う。結果はa[n,k]\n",
    "            a[n,k]=np.dot(v[k,:],z[n,:]) \n",
    "            #ソフトマックス関数用の入力総和\n",
    "            u+=np.exp(a[n,k])\n",
    "        for k in range(K):\n",
    "            y[n,k]=np.exp(a[n,k])/u\n",
    "    return y,a,z,b\n",
    "            "
   ]
  },
  {
   "cell_type": "code",
   "execution_count": 8,
   "metadata": {},
   "outputs": [],
   "source": [
    "#誤差逆伝搬法\n",
    "#∂E/∂w、∂E/∂vを求める\n",
    "def back_propagation(w,v,M,K,x,t):\n",
    "    N,D=x.shape\n",
    "    y,a,z,b=FNN(x,w,v,M,K)\n",
    "    dw=np.zeros((M,D+1))\n",
    "    dv=np.zeros((K,M+1))\n",
    "    delta1=np.zeros(M)\n",
    "    delta2=np.zeros(K)\n",
    "    \n",
    "    for n in range(N):\n",
    "        for k in range(K):\n",
    "            delta2[k]=(y[n,k]-t[n,k])\n",
    "        for j in range(M):\n",
    "            delta1[j]=z[n,j]*(1-z[n,j])*np.dot(v[:,j],delta2)\n",
    "        for k in range(K):\n",
    "            dv[k,:]=dv[k,:]+delta2[k]*z[n,:]/N\n",
    "        for j in range(M):\n",
    "            dw[j,:]=dw[j,:]+delta1[j]*np.r_[x[n,:],1]/N\n",
    "    return dw,dv\n"
   ]
  },
  {
   "cell_type": "code",
   "execution_count": 9,
   "metadata": {},
   "outputs": [],
   "source": [
    "#誤差逆伝搬法を利用した勾配法\n",
    "def Fit_back_propagation(w_init,v_init,M,K,x,t,n,alpha):\n",
    "    w=w_init\n",
    "    v=v_init\n",
    "    for i in range(n):\n",
    "        dw,dv=back_propagation(w,v,M,K,x,t)\n",
    "        w-=alpha*dw\n",
    "        v-=alpha*dv\n",
    "    return w,v"
   ]
  },
  {
   "cell_type": "code",
   "execution_count": 13,
   "metadata": {},
   "outputs": [
    {
     "name": "stdout",
     "output_type": "stream",
     "text": [
      "Calculation time:10.08945 sec\n",
      "[[1. 1. 1.]\n",
      " [1. 1. 1.]]\n",
      "[[0.9733454  0.9733454  0.9733454 ]\n",
      " [1.10100948 1.10100948 1.10100948]\n",
      " [0.92564512 0.92564512 0.92564512]]\n"
     ]
    }
   ],
   "source": [
    "#テスト\n",
    "M=2\n",
    "K=3\n",
    "D=len(x[0])\n",
    "w=np.ones((M,D+1))\n",
    "v=np.ones((K,M+1))\n",
    "\n",
    "\n",
    "N=1000\n",
    "alpha=0.5\n",
    "\n",
    "start_time=time.time()\n",
    "\n",
    "w,v=Fit_back_propagation(w,v,M,K,x,t,N,alpha)\n",
    "\n",
    "finish_time=time.time()\n",
    "\n",
    "print(\"Calculation time:{:.5f} sec\".format(finish_time-start_time))\n",
    "\n",
    "print(w)\n",
    "print(v)"
   ]
  }
 ],
 "metadata": {
  "kernelspec": {
   "display_name": "Python 3",
   "language": "python",
   "name": "python3"
  },
  "language_info": {
   "codemirror_mode": {
    "name": "ipython",
    "version": 3
   },
   "file_extension": ".py",
   "mimetype": "text/x-python",
   "name": "python",
   "nbconvert_exporter": "python",
   "pygments_lexer": "ipython3",
   "version": "3.7.3"
  }
 },
 "nbformat": 4,
 "nbformat_minor": 4
}
