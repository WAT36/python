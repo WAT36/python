{
 "cells": [
  {
   "cell_type": "code",
   "execution_count": null,
   "metadata": {},
   "outputs": [],
   "source": [
    "import numpy as np"
   ]
  },
  {
   "cell_type": "code",
   "execution_count": null,
   "metadata": {},
   "outputs": [],
   "source": [
    "#２層フィードフォワードニューラルネットワークモデル\n",
    "def FNN(x,w,v,M,K):\n",
    "    #x:入力データ  (N*D)→入力データはNセット分、まとめて一度に処理させる。入力データ１セットに対し出力値１セットを得る。\n",
    "    #w:中間層への重み行列 (M*(D+1))\n",
    "    #v:出力層への重み行列 (K*(M+1))\n",
    "    #M:中間層の次元\n",
    "    #K:出力層の次元\n",
    "    N,D = x.shape\n",
    "    b=np.zeros((N,M+1))  #中間層の入力総和\n",
    "    z=np.zeros((N,M+1))  #中間層の出力\n",
    "    a=np.zeros((N,K))    #出力層の入力総和\n",
    "    y=np.zeros((N,K))    #出力層の出力\n",
    "    \n",
    "    #(1~n)個目の入力データセットについての処理\n",
    "    for n in range(N):\n",
    "        #中間層の計算\n",
    "        for m in range(M):\n",
    "            #入力データxを利用し、入力総和bのm番目の要素の算出を行う。結果はb[n,m]\n",
    "            b[n,m]=np.dot(w[m,:],np.r_[x[n,:],1])\n",
    "            #入力総和をシグモイド関数で出力値にする\n",
    "            z[n,m]=sigmoid(b[n,m]) \n",
    "\n",
    "        #出力層の計算\n",
    "        z[n,M] = 1  #最後のダミー用データ\n",
    "        u=0\n",
    "        for k in range(K):\n",
    "            #中間層からの入力データzを利用し、入力総和aのk番目の要素の算出を行う。結果はa[n,k]\n",
    "            a[n,k]=np.dot(v[k,:],z[n,:]) \n",
    "            #ソフトマックス関数用の入力総和\n",
    "            u+=np.exp(a[n,k])\n",
    "        for k in range(K):\n",
    "            y[n,k]=np.exp(a[n,k])/u\n",
    "    return y,a,z,b\n",
    "            "
   ]
  },
  {
   "cell_type": "code",
   "execution_count": null,
   "metadata": {},
   "outputs": [],
   "source": [
    "#平均交差エントロピー誤差\n",
    "def E_FNN(w,v,M,K,x,t):\n",
    "    N,D=x.shape\n",
    "    y,a,z,b=FNN(x,w,v,M,K)\n",
    "    e = -np.dot(np.log(y.reshape(-1)),t.reshape(-1)) / N\n",
    "    return e"
   ]
  },
  {
   "cell_type": "code",
   "execution_count": null,
   "metadata": {},
   "outputs": [],
   "source": [
    "#数値微分\n",
    "def dE_FNN(w,v,M,K,x,t):\n",
    "    epsilon = 0.001\n",
    "    dw = np.zeros_like(w)\n",
    "    dv = np.zeros_like(v)\n",
    "    \n",
    "    e=E_FNN(w,v,M,K,x,t)\n",
    "    for i in range(len(w)):\n",
    "        for j in range(len(w[i])):\n",
    "            w_ep = w.copy()\n",
    "            w_ep[i][j]=w_ep[i][j]+epsilon\n",
    "            dw_epij=E_FNN(w_ep,v,M,K,x,t)\n",
    "            dw[i][j]=(dw_epij-e)/epsilon\n",
    "    \n",
    "    for i in range(len(v)):\n",
    "        for j in range(len(v[i])):\n",
    "            v_ep = v.copy()\n",
    "            v_ep[i][j]=v_ep[i][j]+epsilon\n",
    "            dv_epij=E_FNN(w,v_ep,M,K,x,t)\n",
    "            dv[i][j]=(dv_epij-e)/epsilon\n",
    "\n",
    "    return dw,dv\n",
    "    "
   ]
  },
  {
   "cell_type": "code",
   "execution_count": null,
   "metadata": {},
   "outputs": [],
   "source": [
    "#数値微分を使った勾配法"
   ]
  }
 ],
 "metadata": {
  "kernelspec": {
   "display_name": "Python 3",
   "language": "python",
   "name": "python3"
  },
  "language_info": {
   "codemirror_mode": {
    "name": "ipython",
    "version": 3
   },
   "file_extension": ".py",
   "mimetype": "text/x-python",
   "name": "python",
   "nbconvert_exporter": "python",
   "pygments_lexer": "ipython3",
   "version": "3.7.3"
  }
 },
 "nbformat": 4,
 "nbformat_minor": 4
}
