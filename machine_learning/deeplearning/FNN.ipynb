{
 "cells": [
  {
   "cell_type": "code",
   "execution_count": null,
   "metadata": {},
   "outputs": [],
   "source": [
    "import numpy as np"
   ]
  },
  {
   "cell_type": "code",
   "execution_count": null,
   "metadata": {},
   "outputs": [],
   "source": [
    "#入力データのロード\n",
    "x = np.load('x.npy')"
   ]
  },
  {
   "cell_type": "code",
   "execution_count": null,
   "metadata": {},
   "outputs": [],
   "source": [
    "#入力データの個数\n",
    "D=len(x)\n",
    "#出力値の個数\n",
    "K=3\n",
    "\n",
    "x_rangex=[min(x[:,0])-1,max(x[:,0])+1]\n",
    "x_rangey=[min(x[:,1])-1,max(x[:,1])+1]"
   ]
  },
  {
   "cell_type": "code",
   "execution_count": null,
   "metadata": {},
   "outputs": [],
   "source": [
    "#入力データをテスト用と訓練用に分ける\n",
    "test_count=int(D*0.5)\n",
    "x_train=x[:test_count]\n",
    "x_test=x[test_count:]\n",
    "x_train=x[:test_count]\n",
    "x_test=x[test_count:]\n",
    "\n"
   ]
  }
 ],
 "metadata": {
  "kernelspec": {
   "display_name": "Python 3",
   "language": "python",
   "name": "python3"
  },
  "language_info": {
   "codemirror_mode": {
    "name": "ipython",
    "version": 3
   },
   "file_extension": ".py",
   "mimetype": "text/x-python",
   "name": "python",
   "nbconvert_exporter": "python",
   "pygments_lexer": "ipython3",
   "version": "3.7.3"
  }
 },
 "nbformat": 4,
 "nbformat_minor": 4
}
